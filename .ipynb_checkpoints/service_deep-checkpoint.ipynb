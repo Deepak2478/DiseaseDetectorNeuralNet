{
 "cells": [
  {
   "cell_type": "code",
   "execution_count": 1,
   "metadata": {},
   "outputs": [],
   "source": [
    "import tkinter as tk\n",
    "from tkinter.filedialog import askopenfilename\n",
    "import shutil\n",
    "import os\n",
    "import sys\n",
    "from PIL import Image, ImageTk\n",
    "from flask import Flask, jsonify\n",
    "from flask import request\n",
    "import json\n",
    "import re\n",
    "from flask_cors import CORS, cross_origin"
   ]
  },
  {
   "cell_type": "code",
   "execution_count": 2,
   "metadata": {},
   "outputs": [],
   "source": [
    "#window = tk.Tk()\n",
    "\n",
    "#window.title(\"Dr. Plant\")\n",
    "\n",
    "#window.geometry(\"500x510\")\n",
    "#window.configure(background =\"lightgreen\")\n",
    "\n",
    "#title = tk.Label(text=\"Click below to choose picture for testing disease....\", background = \"lightgreen\", fg=\"Brown\", font=(\"\", 15))\n",
    "#title.grid()"
   ]
  },
  {
   "cell_type": "code",
   "execution_count": null,
   "metadata": {},
   "outputs": [],
   "source": []
  },
  {
   "cell_type": "code",
   "execution_count": null,
   "metadata": {},
   "outputs": [],
   "source": []
  },
  {
   "cell_type": "code",
   "execution_count": null,
   "metadata": {},
   "outputs": [],
   "source": []
  },
  {
   "cell_type": "code",
   "execution_count": 3,
   "metadata": {},
   "outputs": [],
   "source": [
    "app = Flask(__name__)\n",
    "CORS(app)\n",
    "@app.route('/predict', methods=['POST'])\n",
    "def analysis():\n",
    "    import cv2  # working with, mainly resizing, images\n",
    "    import numpy as np  # dealing with arrays\n",
    "    import os  # dealing with directories\n",
    "    from random import shuffle  # mixing up or currently ordered data that might lead our network astray in training.\n",
    "    from tqdm import \\\n",
    "        tqdm  # a nice pretty percentage bar for tasks. Thanks to viewer Daniel BA1/4hler for this suggestion\n",
    "    #verify_dir = 'testpicture'\n",
    "    IMG_SIZE = 50\n",
    "    LR = 1e-3\n",
    "    MODEL_NAME = 'healthyvsunhealthy-{}-{}.model'.format(LR, '2conv-basic')\n",
    "\n",
    "    jsonInputObj = request.json;\n",
    "    path = jsonInputObj['path'];\n",
    "    #def process_verify_data():\n",
    "    img=''\n",
    "    verifying_data = []\n",
    "        #for img in tqdm(os.listdir(verify_dir)):\n",
    "            #path = os.path.join(verify_dir, img)\n",
    "    #path = 'C:/Users/I323802/Desktop/PlantDiseaseDetection/testpicture/b (19).JPG'\n",
    "    img_num = img.split('.')[0]\n",
    "    img = cv2.imread(path, cv2.IMREAD_COLOR)\n",
    "    img = cv2.resize(img, (IMG_SIZE, IMG_SIZE))\n",
    "    verifying_data.append([np.array(img), img_num])\n",
    "    np.save('verify_data.npy', verifying_data)\n",
    "    #    return verifying_data\n",
    "\n",
    "    verify_data = verifying_data\n",
    "    #verify_data = np.load('verify_data.npy')\n",
    "\n",
    "    import tflearn\n",
    "    from tflearn.layers.conv import conv_2d, max_pool_2d\n",
    "    from tflearn.layers.core import input_data, dropout, fully_connected\n",
    "    from tflearn.layers.estimator import regression\n",
    "    import tensorflow as tf\n",
    "    tf.reset_default_graph()\n",
    "\n",
    "    convnet = input_data(shape=[None, IMG_SIZE, IMG_SIZE, 3], name='input')\n",
    "\n",
    "    convnet = conv_2d(convnet, 32, 3, activation='relu')\n",
    "    convnet = max_pool_2d(convnet, 3)\n",
    "\n",
    "    convnet = conv_2d(convnet, 64, 3, activation='relu')\n",
    "    convnet = max_pool_2d(convnet, 3)\n",
    "\n",
    "    convnet = conv_2d(convnet, 128, 3, activation='relu')\n",
    "    convnet = max_pool_2d(convnet, 3)\n",
    "\n",
    "    convnet = conv_2d(convnet, 32, 3, activation='relu')\n",
    "    convnet = max_pool_2d(convnet, 3)\n",
    "\n",
    "    convnet = conv_2d(convnet, 64, 3, activation='relu')\n",
    "    convnet = max_pool_2d(convnet, 3)\n",
    "\n",
    "    convnet = fully_connected(convnet, 1024, activation='relu')\n",
    "    convnet = dropout(convnet, 0.8)\n",
    "\n",
    "    convnet = fully_connected(convnet, 4, activation='softmax')\n",
    "    convnet = regression(convnet, optimizer='adam', learning_rate=LR, loss='categorical_crossentropy', name='targets')\n",
    "\n",
    "    model = tflearn.DNN(convnet, tensorboard_dir='log')\n",
    "\n",
    "    if os.path.exists('{}.meta'.format(MODEL_NAME)):\n",
    "        model.load(MODEL_NAME)\n",
    "        print('model loaded!')\n",
    "\n",
    "    #import matplotlib.pyplot as plt\n",
    "\n",
    "    #fig = plt.figure()\n",
    "\n",
    "    for num, data in enumerate(verify_data):\n",
    "\n",
    "        img_num = data[1]\n",
    "        img_data = data[0]\n",
    "\n",
    "        #y = fig.add_subplot(3, 4, num + 1)\n",
    "        orig = img_data\n",
    "        data = img_data.reshape(IMG_SIZE, IMG_SIZE, 3)\n",
    "        # model_out = model.predict([data])[0]\n",
    "        model_out = model.predict([data])[0]\n",
    "\n",
    "        if np.argmax(model_out) == 0:\n",
    "            str_label = 'healthy'\n",
    "        elif np.argmax(model_out) == 1:\n",
    "            str_label = 'bacterial'\n",
    "        elif np.argmax(model_out) == 2:\n",
    "            str_label = 'viral'\n",
    "        elif np.argmax(model_out) == 3:\n",
    "            str_label = 'lateblight'\n",
    "\n",
    "        if str_label =='healthy':\n",
    "            status =\"HEALTHY\"\n",
    "        else:\n",
    "            status = \"UNHEALTHY\"\n",
    "\n",
    "        #message = tk.Label(text='Status: '+status, background=\"lightgreen\",\n",
    "        #                   fg=\"Brown\", font=(\"\", 15))\n",
    "        #message.grid(column=0, row=3, padx=10, pady=10)\n",
    "        diseasename = ''\n",
    "        recommendation = ''\n",
    "        if str_label == 'bacterial':\n",
    "            diseasename = \"Bacterial Spot \"\n",
    "            recommendation = 'At the end of the season, discard or destroy any affected plants. Do not compost them. Rotate your tomato plants yearly to prevent re-infection next year. Do not share seeds from affected plants, as even with seed treatment for bacterial speck, there is a chance that it will survive'\n",
    "            #disease = tk.Label(text='Disease Name: ' + diseasename, background=\"lightgreen\",\n",
    "            #                   fg=\"Black\", font=(\"\", 15))\n",
    "            #disease.grid(column=0, row=4, padx=10, pady=10)\n",
    "            #r = tk.Label(text='Click below for remedies...', background=\"lightgreen\", fg=\"Brown\", font=(\"\", 15))\n",
    "            #r.grid(column=0, row=5, padx=10, pady=10)\n",
    "            #button3 = tk.Button(text=\"Remedies\", command=bact)\n",
    "            #button3.grid(column=0, row=6, padx=10, pady=10)\n",
    "        elif str_label == 'viral':\n",
    "            diseasename = \"Yellow leaf curl virus \"\n",
    "            recommendation = 'Use a neonicotinoid insecticide, such as dinotefuran (Venom) imidacloprid (AdmirePro, Alias, Nuprid, Widow, and others) or thiamethoxam (Platinum), as a soil application or through the drip irrigation system at transplanting of tomatoes or peppers. After the efficacy of the neonicotinoid insecticide application begins to decline, the secondary spread of whiteflies will need to be controlled. Monitor whitefly populations throughout the season, treating when present.'\n",
    "            #disease = tk.Label(text='Disease Name: ' + diseasename, background=\"lightgreen\",\n",
    "            #                   fg=\"Black\", font=(\"\", 15))\n",
    "            #disease.grid(column=0, row=4, padx=10, pady=10)\n",
    "            #r = tk.Label(text='Click below for remedies...', background=\"lightgreen\", fg=\"Brown\", font=(\"\", 15))\n",
    "            #r.grid(column=0, row=5, padx=10, pady=10)\n",
    "            #button3 = tk.Button(text=\"Remedies\", command=vir)\n",
    "            #button3.grid(column=0, row=6, padx=10, pady=10)\n",
    "        elif str_label == 'lateblight':\n",
    "            diseasename = \"Late Blight \"\n",
    "            recommendation = 'Between cropping seasons, the fungus survives on volunteer and abandoned potatoes in cull piles. Control measures include eliminating all potato and/or tomato cull piles and destroying volunteer potato plants that grow from overwintered tubers'\n",
    "            #disease = tk.Label(text='Disease Name: ' + diseasename, background=\"lightgreen\",\n",
    "            #                  fg=\"Black\", font=(\"\", 15))\n",
    "            #disease.grid(column=0, row=4, padx=10, pady=10)\n",
    "            #r = tk.Label(text='Click below for remedies...', background=\"lightgreen\", fg=\"Brown\", font=(\"\", 15))\n",
    "            #r.grid(column=0, row=5, padx=10, pady=10)\n",
    "            #button3 = tk.Button(text=\"Remedies\", command=latebl)\n",
    "            #button3.grid(column=0, row=6, padx=10, pady=10)\n",
    "        else:\n",
    "            diseasename = \"no disease\"\n",
    "            recommendation = 'none'\n",
    "            #r = tk.Label(text='Plant is healthy', background=\"lightgreen\", fg=\"Black\",\n",
    "            #             font=(\"\", 15))\n",
    "            #r.grid(column=0, row=4, padx=10, pady=10)\n",
    "            #button = tk.Button(text=\"Exit\", command=exit)\n",
    "            #button.grid(column=0, row=9, padx=20, pady=20)\n",
    "    print(diseasename)\n",
    "    json_data = json.dumps({'disease': diseasename,\n",
    "                            'recommendation': recommendation,\n",
    "                            });\n",
    "    return json_data;"
   ]
  },
  {
   "cell_type": "code",
   "execution_count": null,
   "metadata": {},
   "outputs": [],
   "source": [
    "\n"
   ]
  },
  {
   "cell_type": "code",
   "execution_count": 4,
   "metadata": {},
   "outputs": [],
   "source": [
    "#window.mainloop()"
   ]
  },
  {
   "cell_type": "code",
   "execution_count": 8,
   "metadata": {},
   "outputs": [
    {
     "ename": "RuntimeError",
     "evalue": "Working outside of request context.\n\nThis typically means that you attempted to use functionality that needed\nan active HTTP request.  Consult the documentation on testing for\ninformation about how to avoid this problem.",
     "output_type": "error",
     "traceback": [
      "\u001b[1;31m---------------------------------------------------------------------------\u001b[0m",
      "\u001b[1;31mRuntimeError\u001b[0m                              Traceback (most recent call last)",
      "\u001b[1;32m<ipython-input-8-5300f5cd80da>\u001b[0m in \u001b[0;36m<module>\u001b[1;34m()\u001b[0m\n\u001b[1;32m----> 1\u001b[1;33m \u001b[0manalysis\u001b[0m\u001b[1;33m(\u001b[0m\u001b[1;33m)\u001b[0m\u001b[1;33m\u001b[0m\u001b[0m\n\u001b[0m",
      "\u001b[1;32m<ipython-input-3-08e32683cd04>\u001b[0m in \u001b[0;36manalysis\u001b[1;34m()\u001b[0m\n\u001b[0;32m     13\u001b[0m     \u001b[0mMODEL_NAME\u001b[0m \u001b[1;33m=\u001b[0m \u001b[1;34m'healthyvsunhealthy-{}-{}.model'\u001b[0m\u001b[1;33m.\u001b[0m\u001b[0mformat\u001b[0m\u001b[1;33m(\u001b[0m\u001b[0mLR\u001b[0m\u001b[1;33m,\u001b[0m \u001b[1;34m'2conv-basic'\u001b[0m\u001b[1;33m)\u001b[0m\u001b[1;33m\u001b[0m\u001b[0m\n\u001b[0;32m     14\u001b[0m \u001b[1;33m\u001b[0m\u001b[0m\n\u001b[1;32m---> 15\u001b[1;33m     \u001b[0mjsonInputObj\u001b[0m \u001b[1;33m=\u001b[0m \u001b[0mrequest\u001b[0m\u001b[1;33m.\u001b[0m\u001b[0mjson\u001b[0m\u001b[1;33m;\u001b[0m\u001b[1;33m\u001b[0m\u001b[0m\n\u001b[0m\u001b[0;32m     16\u001b[0m     \u001b[0mpath\u001b[0m \u001b[1;33m=\u001b[0m \u001b[0mjsonInputObj\u001b[0m\u001b[1;33m[\u001b[0m\u001b[1;34m'path'\u001b[0m\u001b[1;33m]\u001b[0m\u001b[1;33m;\u001b[0m\u001b[1;33m\u001b[0m\u001b[0m\n\u001b[0;32m     17\u001b[0m     \u001b[1;31m#def process_verify_data():\u001b[0m\u001b[1;33m\u001b[0m\u001b[1;33m\u001b[0m\u001b[0m\n",
      "\u001b[1;32mC:\\ProgramData\\Anaconda3\\lib\\site-packages\\werkzeug\\local.py\u001b[0m in \u001b[0;36m__getattr__\u001b[1;34m(self, name)\u001b[0m\n\u001b[0;32m    345\u001b[0m         \u001b[1;32mif\u001b[0m \u001b[0mname\u001b[0m \u001b[1;33m==\u001b[0m \u001b[1;34m'__members__'\u001b[0m\u001b[1;33m:\u001b[0m\u001b[1;33m\u001b[0m\u001b[0m\n\u001b[0;32m    346\u001b[0m             \u001b[1;32mreturn\u001b[0m \u001b[0mdir\u001b[0m\u001b[1;33m(\u001b[0m\u001b[0mself\u001b[0m\u001b[1;33m.\u001b[0m\u001b[0m_get_current_object\u001b[0m\u001b[1;33m(\u001b[0m\u001b[1;33m)\u001b[0m\u001b[1;33m)\u001b[0m\u001b[1;33m\u001b[0m\u001b[0m\n\u001b[1;32m--> 347\u001b[1;33m         \u001b[1;32mreturn\u001b[0m \u001b[0mgetattr\u001b[0m\u001b[1;33m(\u001b[0m\u001b[0mself\u001b[0m\u001b[1;33m.\u001b[0m\u001b[0m_get_current_object\u001b[0m\u001b[1;33m(\u001b[0m\u001b[1;33m)\u001b[0m\u001b[1;33m,\u001b[0m \u001b[0mname\u001b[0m\u001b[1;33m)\u001b[0m\u001b[1;33m\u001b[0m\u001b[0m\n\u001b[0m\u001b[0;32m    348\u001b[0m \u001b[1;33m\u001b[0m\u001b[0m\n\u001b[0;32m    349\u001b[0m     \u001b[1;32mdef\u001b[0m \u001b[0m__setitem__\u001b[0m\u001b[1;33m(\u001b[0m\u001b[0mself\u001b[0m\u001b[1;33m,\u001b[0m \u001b[0mkey\u001b[0m\u001b[1;33m,\u001b[0m \u001b[0mvalue\u001b[0m\u001b[1;33m)\u001b[0m\u001b[1;33m:\u001b[0m\u001b[1;33m\u001b[0m\u001b[0m\n",
      "\u001b[1;32mC:\\ProgramData\\Anaconda3\\lib\\site-packages\\werkzeug\\local.py\u001b[0m in \u001b[0;36m_get_current_object\u001b[1;34m(self)\u001b[0m\n\u001b[0;32m    304\u001b[0m         \"\"\"\n\u001b[0;32m    305\u001b[0m         \u001b[1;32mif\u001b[0m \u001b[1;32mnot\u001b[0m \u001b[0mhasattr\u001b[0m\u001b[1;33m(\u001b[0m\u001b[0mself\u001b[0m\u001b[1;33m.\u001b[0m\u001b[0m__local\u001b[0m\u001b[1;33m,\u001b[0m \u001b[1;34m'__release_local__'\u001b[0m\u001b[1;33m)\u001b[0m\u001b[1;33m:\u001b[0m\u001b[1;33m\u001b[0m\u001b[0m\n\u001b[1;32m--> 306\u001b[1;33m             \u001b[1;32mreturn\u001b[0m \u001b[0mself\u001b[0m\u001b[1;33m.\u001b[0m\u001b[0m__local\u001b[0m\u001b[1;33m(\u001b[0m\u001b[1;33m)\u001b[0m\u001b[1;33m\u001b[0m\u001b[0m\n\u001b[0m\u001b[0;32m    307\u001b[0m         \u001b[1;32mtry\u001b[0m\u001b[1;33m:\u001b[0m\u001b[1;33m\u001b[0m\u001b[0m\n\u001b[0;32m    308\u001b[0m             \u001b[1;32mreturn\u001b[0m \u001b[0mgetattr\u001b[0m\u001b[1;33m(\u001b[0m\u001b[0mself\u001b[0m\u001b[1;33m.\u001b[0m\u001b[0m__local\u001b[0m\u001b[1;33m,\u001b[0m \u001b[0mself\u001b[0m\u001b[1;33m.\u001b[0m\u001b[0m__name__\u001b[0m\u001b[1;33m)\u001b[0m\u001b[1;33m\u001b[0m\u001b[0m\n",
      "\u001b[1;32mC:\\ProgramData\\Anaconda3\\lib\\site-packages\\flask\\globals.py\u001b[0m in \u001b[0;36m_lookup_req_object\u001b[1;34m(name)\u001b[0m\n\u001b[0;32m     35\u001b[0m     \u001b[0mtop\u001b[0m \u001b[1;33m=\u001b[0m \u001b[0m_request_ctx_stack\u001b[0m\u001b[1;33m.\u001b[0m\u001b[0mtop\u001b[0m\u001b[1;33m\u001b[0m\u001b[0m\n\u001b[0;32m     36\u001b[0m     \u001b[1;32mif\u001b[0m \u001b[0mtop\u001b[0m \u001b[1;32mis\u001b[0m \u001b[1;32mNone\u001b[0m\u001b[1;33m:\u001b[0m\u001b[1;33m\u001b[0m\u001b[0m\n\u001b[1;32m---> 37\u001b[1;33m         \u001b[1;32mraise\u001b[0m \u001b[0mRuntimeError\u001b[0m\u001b[1;33m(\u001b[0m\u001b[0m_request_ctx_err_msg\u001b[0m\u001b[1;33m)\u001b[0m\u001b[1;33m\u001b[0m\u001b[0m\n\u001b[0m\u001b[0;32m     38\u001b[0m     \u001b[1;32mreturn\u001b[0m \u001b[0mgetattr\u001b[0m\u001b[1;33m(\u001b[0m\u001b[0mtop\u001b[0m\u001b[1;33m,\u001b[0m \u001b[0mname\u001b[0m\u001b[1;33m)\u001b[0m\u001b[1;33m\u001b[0m\u001b[0m\n\u001b[0;32m     39\u001b[0m \u001b[1;33m\u001b[0m\u001b[0m\n",
      "\u001b[1;31mRuntimeError\u001b[0m: Working outside of request context.\n\nThis typically means that you attempted to use functionality that needed\nan active HTTP request.  Consult the documentation on testing for\ninformation about how to avoid this problem."
     ]
    }
   ],
   "source": [
    "analysis()"
   ]
  },
  {
   "cell_type": "code",
   "execution_count": null,
   "metadata": {},
   "outputs": [
    {
     "name": "stdout",
     "output_type": "stream",
     "text": [
      " * Serving Flask app \"__main__\" (lazy loading)\n",
      " * Environment: production\n",
      "   WARNING: Do not use the development server in a production environment.\n",
      "   Use a production WSGI server instead.\n",
      " * Debug mode: off\n"
     ]
    },
    {
     "name": "stderr",
     "output_type": "stream",
     "text": [
      " * Running on http://127.0.0.1:8088/ (Press CTRL+C to quit)\n",
      "C:\\ProgramData\\Anaconda3\\lib\\site-packages\\h5py\\__init__.py:36: FutureWarning: Conversion of the second argument of issubdtype from `float` to `np.floating` is deprecated. In future, it will be treated as `np.float64 == np.dtype(float).type`.\n",
      "  from ._conv import register_converters as _register_converters\n"
     ]
    },
    {
     "name": "stdout",
     "output_type": "stream",
     "text": [
      "curses is not supported on this machine (please install/reinstall curses for an optimal experience)\n",
      "WARNING:tensorflow:From C:\\ProgramData\\Anaconda3\\lib\\site-packages\\tflearn\\initializations.py:119: UniformUnitScaling.__init__ (from tensorflow.python.ops.init_ops) is deprecated and will be removed in a future version.\n",
      "Instructions for updating:\n",
      "Use tf.initializers.variance_scaling instead with distribution=uniform to get equivalent behavior.\n",
      "WARNING:tensorflow:From C:\\ProgramData\\Anaconda3\\lib\\site-packages\\tflearn\\objectives.py:66: calling reduce_sum (from tensorflow.python.ops.math_ops) with keep_dims is deprecated and will be removed in a future version.\n",
      "Instructions for updating:\n",
      "keep_dims is deprecated, use keepdims instead\n",
      "INFO:tensorflow:Restoring parameters from C:\\Users\\I323802\\Desktop\\PlantDiseaseDetection\\healthyvsunhealthy-0.001-2conv-basic.model\n",
      "model loaded!\n",
      "Bacterial Spot \n"
     ]
    },
    {
     "name": "stderr",
     "output_type": "stream",
     "text": [
      "127.0.0.1 - - [04/Sep/2018 14:52:33] \"POST /predict HTTP/1.1\" 200 -\n",
      "[2018-09-04 14:53:24,347] ERROR in app: Exception on /predict [POST]\n",
      "Traceback (most recent call last):\n",
      "  File \"C:\\ProgramData\\Anaconda3\\lib\\site-packages\\flask\\app.py\", line 2292, in wsgi_app\n",
      "    response = self.full_dispatch_request()\n",
      "  File \"C:\\ProgramData\\Anaconda3\\lib\\site-packages\\flask\\app.py\", line 1815, in full_dispatch_request\n",
      "    rv = self.handle_user_exception(e)\n",
      "  File \"C:\\ProgramData\\Anaconda3\\lib\\site-packages\\flask_cors\\extension.py\", line 161, in wrapped_function\n",
      "    return cors_after_request(app.make_response(f(*args, **kwargs)))\n",
      "  File \"C:\\ProgramData\\Anaconda3\\lib\\site-packages\\flask\\app.py\", line 1718, in handle_user_exception\n",
      "    reraise(exc_type, exc_value, tb)\n",
      "  File \"C:\\ProgramData\\Anaconda3\\lib\\site-packages\\flask\\_compat.py\", line 35, in reraise\n",
      "    raise value\n",
      "  File \"C:\\ProgramData\\Anaconda3\\lib\\site-packages\\flask\\app.py\", line 1813, in full_dispatch_request\n",
      "    rv = self.dispatch_request()\n",
      "  File \"C:\\ProgramData\\Anaconda3\\lib\\site-packages\\flask\\app.py\", line 1799, in dispatch_request\n",
      "    return self.view_functions[rule.endpoint](**req.view_args)\n",
      "  File \"<ipython-input-3-08e32683cd04>\", line 25, in analysis\n",
      "    img = cv2.resize(img, (IMG_SIZE, IMG_SIZE))\n",
      "cv2.error: OpenCV(3.4.2) C:\\projects\\opencv-python\\opencv\\modules\\imgproc\\src\\resize.cpp:4044: error: (-215:Assertion failed) !ssize.empty() in function 'cv::resize'\n",
      "\n",
      "127.0.0.1 - - [04/Sep/2018 14:53:24] \"POST /predict HTTP/1.1\" 500 -\n"
     ]
    },
    {
     "name": "stdout",
     "output_type": "stream",
     "text": [
      "INFO:tensorflow:Restoring parameters from C:\\Users\\I323802\\Desktop\\PlantDiseaseDetection\\healthyvsunhealthy-0.001-2conv-basic.model\n",
      "model loaded!\n",
      "Late Blight \n"
     ]
    },
    {
     "name": "stderr",
     "output_type": "stream",
     "text": [
      "127.0.0.1 - - [04/Sep/2018 14:53:36] \"POST /predict HTTP/1.1\" 200 -\n"
     ]
    }
   ],
   "source": [
    "if __name__ == '__main__':\n",
    "     #model = joblib.load('model.pkl')\n",
    "    app.run(port=8088)"
   ]
  },
  {
   "cell_type": "code",
   "execution_count": null,
   "metadata": {},
   "outputs": [],
   "source": []
  }
 ],
 "metadata": {
  "kernelspec": {
   "display_name": "Python 3",
   "language": "python",
   "name": "python3"
  },
  "language_info": {
   "codemirror_mode": {
    "name": "ipython",
    "version": 3
   },
   "file_extension": ".py",
   "mimetype": "text/x-python",
   "name": "python",
   "nbconvert_exporter": "python",
   "pygments_lexer": "ipython3",
   "version": "3.6.5"
  }
 },
 "nbformat": 4,
 "nbformat_minor": 2
}
